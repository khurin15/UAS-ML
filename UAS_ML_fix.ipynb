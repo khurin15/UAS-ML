{
  "nbformat": 4,
  "nbformat_minor": 0,
  "metadata": {
    "colab": {
      "name": "UAS ML fix.ipynb",
      "provenance": [],
      "collapsed_sections": []
    },
    "kernelspec": {
      "name": "python3",
      "display_name": "Python 3"
    },
    "language_info": {
      "name": "python"
    }
  },
  "cells": [
    {
      "cell_type": "code",
      "metadata": {
        "id": "cXxaMwwETSZ9"
      },
      "source": [
        "import numpy as np \n",
        "import pandas as pd \n",
        "import seaborn as sns\n",
        "from matplotlib import pyplot as plt\n",
        "plt.style.use('fivethirtyeight')\n"
      ],
      "execution_count": 5,
      "outputs": []
    },
    {
      "cell_type": "code",
      "metadata": {
        "id": "k1pFPTpOTgEK"
      },
      "source": [
        "#Modules for ML(Recommendation)\n",
        "from sklearn.preprocessing import MinMaxScaler\n",
        "from sklearn.neighbors import NearestNeighbors\n",
        "from sklearn.metrics.pairwise import cosine_similarity\n",
        "\n",
        "%matplotlib inline"
      ],
      "execution_count": 7,
      "outputs": []
    },
    {
      "cell_type": "code",
      "metadata": {
        "colab": {
          "base_uri": "https://localhost:8080/"
        },
        "id": "93IwkT0cTlqQ",
        "outputId": "dec3f20c-4dff-45ed-e564-131dfad7ae02"
      },
      "source": [
        "df = pd.read_csv('../content/drive/MyDrive/ML/top100_kdrama.csv')\n",
        "df.shape"
      ],
      "execution_count": 8,
      "outputs": [
        {
          "output_type": "execute_result",
          "data": {
            "text/plain": [
              "(100, 14)"
            ]
          },
          "metadata": {},
          "execution_count": 8
        }
      ]
    },
    {
      "cell_type": "code",
      "metadata": {
        "colab": {
          "base_uri": "https://localhost:8080/"
        },
        "id": "Y4HC10LmT1MB",
        "outputId": "cc4d8083-da28-4363-b8e0-23bdd923ca86"
      },
      "source": [
        "df.info()"
      ],
      "execution_count": 9,
      "outputs": [
        {
          "output_type": "stream",
          "name": "stdout",
          "text": [
            "<class 'pandas.core.frame.DataFrame'>\n",
            "RangeIndex: 100 entries, 0 to 99\n",
            "Data columns (total 14 columns):\n",
            " #   Column             Non-Null Count  Dtype  \n",
            "---  ------             --------------  -----  \n",
            " 0   Name               100 non-null    object \n",
            " 1   Year of release    100 non-null    int64  \n",
            " 2   Aired Date         100 non-null    object \n",
            " 3   Aired On           100 non-null    object \n",
            " 4   Number of Episode  100 non-null    int64  \n",
            " 5   Network            100 non-null    object \n",
            " 6   Duration           100 non-null    object \n",
            " 7   Content Rating     100 non-null    object \n",
            " 8   Synopsis           100 non-null    object \n",
            " 9   Cast               100 non-null    object \n",
            " 10  Genre              100 non-null    object \n",
            " 11  Tags               100 non-null    object \n",
            " 12  Rank               100 non-null    object \n",
            " 13  Rating             100 non-null    float64\n",
            "dtypes: float64(1), int64(2), object(11)\n",
            "memory usage: 11.1+ KB\n"
          ]
        }
      ]
    },
    {
      "cell_type": "code",
      "metadata": {
        "colab": {
          "base_uri": "https://localhost:8080/",
          "height": 204
        },
        "id": "_3rThfkuT6Xh",
        "outputId": "039efc80-cebd-4a77-fdca-1fa5cf43c45b"
      },
      "source": [
        "synopsis = pd.read_csv('../content/drive/MyDrive/ML/top100_kdrama.csv',usecols=['Synopsis'])\n",
        "synopsis.head()"
      ],
      "execution_count": 10,
      "outputs": [
        {
          "output_type": "execute_result",
          "data": {
            "text/html": [
              "<div>\n",
              "<style scoped>\n",
              "    .dataframe tbody tr th:only-of-type {\n",
              "        vertical-align: middle;\n",
              "    }\n",
              "\n",
              "    .dataframe tbody tr th {\n",
              "        vertical-align: top;\n",
              "    }\n",
              "\n",
              "    .dataframe thead th {\n",
              "        text-align: right;\n",
              "    }\n",
              "</style>\n",
              "<table border=\"1\" class=\"dataframe\">\n",
              "  <thead>\n",
              "    <tr style=\"text-align: right;\">\n",
              "      <th></th>\n",
              "      <th>Synopsis</th>\n",
              "    </tr>\n",
              "  </thead>\n",
              "  <tbody>\n",
              "    <tr>\n",
              "      <th>0</th>\n",
              "      <td>Geu Roo is a young autistic man. He works for ...</td>\n",
              "    </tr>\n",
              "    <tr>\n",
              "      <th>1</th>\n",
              "      <td>The stories of people going through their days...</td>\n",
              "    </tr>\n",
              "    <tr>\n",
              "      <th>2</th>\n",
              "      <td>Although Baek Hee Sung is hiding a dark secret...</td>\n",
              "    </tr>\n",
              "    <tr>\n",
              "      <th>3</th>\n",
              "      <td>Park Dong Hoon is a middle-aged engineer who i...</td>\n",
              "    </tr>\n",
              "    <tr>\n",
              "      <th>4</th>\n",
              "      <td>Kim Je Hyuk, a famous baseball player, is arre...</td>\n",
              "    </tr>\n",
              "  </tbody>\n",
              "</table>\n",
              "</div>"
            ],
            "text/plain": [
              "                                            Synopsis\n",
              "0  Geu Roo is a young autistic man. He works for ...\n",
              "1  The stories of people going through their days...\n",
              "2  Although Baek Hee Sung is hiding a dark secret...\n",
              "3  Park Dong Hoon is a middle-aged engineer who i...\n",
              "4  Kim Je Hyuk, a famous baseball player, is arre..."
            ]
          },
          "metadata": {},
          "execution_count": 10
        }
      ]
    },
    {
      "cell_type": "code",
      "metadata": {
        "colab": {
          "base_uri": "https://localhost:8080/",
          "height": 493
        },
        "id": "FZm9i5khUCQ9",
        "outputId": "655edc1c-19c8-4103-eb53-8a64c623fcfb"
      },
      "source": [
        "df.head()"
      ],
      "execution_count": 11,
      "outputs": [
        {
          "output_type": "execute_result",
          "data": {
            "text/html": [
              "<div>\n",
              "<style scoped>\n",
              "    .dataframe tbody tr th:only-of-type {\n",
              "        vertical-align: middle;\n",
              "    }\n",
              "\n",
              "    .dataframe tbody tr th {\n",
              "        vertical-align: top;\n",
              "    }\n",
              "\n",
              "    .dataframe thead th {\n",
              "        text-align: right;\n",
              "    }\n",
              "</style>\n",
              "<table border=\"1\" class=\"dataframe\">\n",
              "  <thead>\n",
              "    <tr style=\"text-align: right;\">\n",
              "      <th></th>\n",
              "      <th>Name</th>\n",
              "      <th>Year of release</th>\n",
              "      <th>Aired Date</th>\n",
              "      <th>Aired On</th>\n",
              "      <th>Number of Episode</th>\n",
              "      <th>Network</th>\n",
              "      <th>Duration</th>\n",
              "      <th>Content Rating</th>\n",
              "      <th>Synopsis</th>\n",
              "      <th>Cast</th>\n",
              "      <th>Genre</th>\n",
              "      <th>Tags</th>\n",
              "      <th>Rank</th>\n",
              "      <th>Rating</th>\n",
              "    </tr>\n",
              "  </thead>\n",
              "  <tbody>\n",
              "    <tr>\n",
              "      <th>0</th>\n",
              "      <td>Move to Heaven</td>\n",
              "      <td>2021</td>\n",
              "      <td>May 14, 2021</td>\n",
              "      <td>Friday</td>\n",
              "      <td>10</td>\n",
              "      <td>Netflix,  Netflix,  Netflix,  Netflix</td>\n",
              "      <td>52 min.</td>\n",
              "      <td>18+ Restricted (violence &amp; profanity)</td>\n",
              "      <td>Geu Roo is a young autistic man. He works for ...</td>\n",
              "      <td>Lee Je Hoon, Tang Jun Sang, Hong Seung Hee, Ju...</td>\n",
              "      <td>Life,  Drama,  Family</td>\n",
              "      <td>Autism, Father-Son Relationship, Uncle-Nephew ...</td>\n",
              "      <td>#1</td>\n",
              "      <td>9.2</td>\n",
              "    </tr>\n",
              "    <tr>\n",
              "      <th>1</th>\n",
              "      <td>Hospital Playlist</td>\n",
              "      <td>2020</td>\n",
              "      <td>Mar 12, 2020 - May 28, 2020</td>\n",
              "      <td>Thursday</td>\n",
              "      <td>12</td>\n",
              "      <td>tvN,  Netflix,  Netflix,  Netflix,  Netflix</td>\n",
              "      <td>1 hr. 30 min.</td>\n",
              "      <td>15+ - Teens 15 or older</td>\n",
              "      <td>The stories of people going through their days...</td>\n",
              "      <td>Jo Jung Suk, Yoo Yeon Seok, Jung Kyung Ho, Kim...</td>\n",
              "      <td>Friendship,  Romance,  Life,  Medical</td>\n",
              "      <td>Strong Friendship, Doctor, Multiple Mains, Slo...</td>\n",
              "      <td>#2</td>\n",
              "      <td>9.1</td>\n",
              "    </tr>\n",
              "    <tr>\n",
              "      <th>2</th>\n",
              "      <td>Flower of Evil</td>\n",
              "      <td>2020</td>\n",
              "      <td>Jul 29, 2020 - Sep 23, 2020</td>\n",
              "      <td>Wednesday, Thursday</td>\n",
              "      <td>16</td>\n",
              "      <td>tvN</td>\n",
              "      <td>1 hr. 10 min.</td>\n",
              "      <td>15+ - Teens 15 or older</td>\n",
              "      <td>Although Baek Hee Sung is hiding a dark secret...</td>\n",
              "      <td>Lee Joon Gi, Moon Chae Won, Jang Hee Jin, Seo ...</td>\n",
              "      <td>Thriller,  Romance,  Crime,  Melodrama</td>\n",
              "      <td>Married Couple, Deception, Suspense, Family Se...</td>\n",
              "      <td>#3</td>\n",
              "      <td>9.1</td>\n",
              "    </tr>\n",
              "    <tr>\n",
              "      <th>3</th>\n",
              "      <td>My Mister</td>\n",
              "      <td>2018</td>\n",
              "      <td>Mar 21, 2018 - May 17, 2018</td>\n",
              "      <td>Wednesday, Thursday</td>\n",
              "      <td>16</td>\n",
              "      <td>tvN</td>\n",
              "      <td>1 hr. 17 min.</td>\n",
              "      <td>15+ - Teens 15 or older</td>\n",
              "      <td>Park Dong Hoon is a middle-aged engineer who i...</td>\n",
              "      <td>Lee Sun Kyun, IU, Park Ho San, Song Sae Byuk, ...</td>\n",
              "      <td>Business,  Psychological,  Life,  Drama,  Family</td>\n",
              "      <td>Nice Male Lead, Strong Female Lead, Hardship, ...</td>\n",
              "      <td>#4</td>\n",
              "      <td>9.1</td>\n",
              "    </tr>\n",
              "    <tr>\n",
              "      <th>4</th>\n",
              "      <td>Prison Playbook</td>\n",
              "      <td>2017</td>\n",
              "      <td>Nov 22, 2017 - Jan 18, 2018</td>\n",
              "      <td>Wednesday, Thursday</td>\n",
              "      <td>16</td>\n",
              "      <td>tvN,  Netflix,  Netflix,  Netflix,  Netflix</td>\n",
              "      <td>1 hr. 32 min.</td>\n",
              "      <td>15+ - Teens 15 or older</td>\n",
              "      <td>Kim Je Hyuk, a famous baseball player, is arre...</td>\n",
              "      <td>Park Hae Soo, Jung Kyung Ho, Krystal, Im Hwa Y...</td>\n",
              "      <td>Comedy,  Life,  Drama</td>\n",
              "      <td>Prison, Bromance, Wrongfully Accused, Life Les...</td>\n",
              "      <td>#5</td>\n",
              "      <td>9.1</td>\n",
              "    </tr>\n",
              "  </tbody>\n",
              "</table>\n",
              "</div>"
            ],
            "text/plain": [
              "                Name  Year of release  ... Rank Rating\n",
              "0     Move to Heaven             2021  ...   #1    9.2\n",
              "1  Hospital Playlist             2020  ...   #2    9.1\n",
              "2     Flower of Evil             2020  ...   #3    9.1\n",
              "3          My Mister             2018  ...   #4    9.1\n",
              "4    Prison Playbook             2017  ...   #5    9.1\n",
              "\n",
              "[5 rows x 14 columns]"
            ]
          },
          "metadata": {},
          "execution_count": 11
        }
      ]
    },
    {
      "cell_type": "code",
      "metadata": {
        "colab": {
          "base_uri": "https://localhost:8080/",
          "height": 204
        },
        "id": "CIEFfMCPUGPd",
        "outputId": "65519426-3a06-4e48-da0b-6450f61a4a98"
      },
      "source": [
        "#Name as separate DataFrame\n",
        "kdrama_names = df[['Name']]\n",
        "kdrama_names.head()"
      ],
      "execution_count": 12,
      "outputs": [
        {
          "output_type": "execute_result",
          "data": {
            "text/html": [
              "<div>\n",
              "<style scoped>\n",
              "    .dataframe tbody tr th:only-of-type {\n",
              "        vertical-align: middle;\n",
              "    }\n",
              "\n",
              "    .dataframe tbody tr th {\n",
              "        vertical-align: top;\n",
              "    }\n",
              "\n",
              "    .dataframe thead th {\n",
              "        text-align: right;\n",
              "    }\n",
              "</style>\n",
              "<table border=\"1\" class=\"dataframe\">\n",
              "  <thead>\n",
              "    <tr style=\"text-align: right;\">\n",
              "      <th></th>\n",
              "      <th>Name</th>\n",
              "    </tr>\n",
              "  </thead>\n",
              "  <tbody>\n",
              "    <tr>\n",
              "      <th>0</th>\n",
              "      <td>Move to Heaven</td>\n",
              "    </tr>\n",
              "    <tr>\n",
              "      <th>1</th>\n",
              "      <td>Hospital Playlist</td>\n",
              "    </tr>\n",
              "    <tr>\n",
              "      <th>2</th>\n",
              "      <td>Flower of Evil</td>\n",
              "    </tr>\n",
              "    <tr>\n",
              "      <th>3</th>\n",
              "      <td>My Mister</td>\n",
              "    </tr>\n",
              "    <tr>\n",
              "      <th>4</th>\n",
              "      <td>Prison Playbook</td>\n",
              "    </tr>\n",
              "  </tbody>\n",
              "</table>\n",
              "</div>"
            ],
            "text/plain": [
              "                Name\n",
              "0     Move to Heaven\n",
              "1  Hospital Playlist\n",
              "2     Flower of Evil\n",
              "3          My Mister\n",
              "4    Prison Playbook"
            ]
          },
          "metadata": {},
          "execution_count": 12
        }
      ]
    },
    {
      "cell_type": "code",
      "metadata": {
        "colab": {
          "base_uri": "https://localhost:8080/",
          "height": 204
        },
        "id": "B4sp1kDkUSu5",
        "outputId": "79ec4416-ce8f-4387-acdf-fcfbbffe3928"
      },
      "source": [
        "#Features using for Recommendation\n",
        "cols_for_recommend = ['Year of release', 'Number of Episode',\n",
        "                      'Network', 'Duration', 'Content Rating', 'Rating']\n",
        "df = df[cols_for_recommend]\n",
        "df.head()"
      ],
      "execution_count": 13,
      "outputs": [
        {
          "output_type": "execute_result",
          "data": {
            "text/html": [
              "<div>\n",
              "<style scoped>\n",
              "    .dataframe tbody tr th:only-of-type {\n",
              "        vertical-align: middle;\n",
              "    }\n",
              "\n",
              "    .dataframe tbody tr th {\n",
              "        vertical-align: top;\n",
              "    }\n",
              "\n",
              "    .dataframe thead th {\n",
              "        text-align: right;\n",
              "    }\n",
              "</style>\n",
              "<table border=\"1\" class=\"dataframe\">\n",
              "  <thead>\n",
              "    <tr style=\"text-align: right;\">\n",
              "      <th></th>\n",
              "      <th>Year of release</th>\n",
              "      <th>Number of Episode</th>\n",
              "      <th>Network</th>\n",
              "      <th>Duration</th>\n",
              "      <th>Content Rating</th>\n",
              "      <th>Rating</th>\n",
              "    </tr>\n",
              "  </thead>\n",
              "  <tbody>\n",
              "    <tr>\n",
              "      <th>0</th>\n",
              "      <td>2021</td>\n",
              "      <td>10</td>\n",
              "      <td>Netflix,  Netflix,  Netflix,  Netflix</td>\n",
              "      <td>52 min.</td>\n",
              "      <td>18+ Restricted (violence &amp; profanity)</td>\n",
              "      <td>9.2</td>\n",
              "    </tr>\n",
              "    <tr>\n",
              "      <th>1</th>\n",
              "      <td>2020</td>\n",
              "      <td>12</td>\n",
              "      <td>tvN,  Netflix,  Netflix,  Netflix,  Netflix</td>\n",
              "      <td>1 hr. 30 min.</td>\n",
              "      <td>15+ - Teens 15 or older</td>\n",
              "      <td>9.1</td>\n",
              "    </tr>\n",
              "    <tr>\n",
              "      <th>2</th>\n",
              "      <td>2020</td>\n",
              "      <td>16</td>\n",
              "      <td>tvN</td>\n",
              "      <td>1 hr. 10 min.</td>\n",
              "      <td>15+ - Teens 15 or older</td>\n",
              "      <td>9.1</td>\n",
              "    </tr>\n",
              "    <tr>\n",
              "      <th>3</th>\n",
              "      <td>2018</td>\n",
              "      <td>16</td>\n",
              "      <td>tvN</td>\n",
              "      <td>1 hr. 17 min.</td>\n",
              "      <td>15+ - Teens 15 or older</td>\n",
              "      <td>9.1</td>\n",
              "    </tr>\n",
              "    <tr>\n",
              "      <th>4</th>\n",
              "      <td>2017</td>\n",
              "      <td>16</td>\n",
              "      <td>tvN,  Netflix,  Netflix,  Netflix,  Netflix</td>\n",
              "      <td>1 hr. 32 min.</td>\n",
              "      <td>15+ - Teens 15 or older</td>\n",
              "      <td>9.1</td>\n",
              "    </tr>\n",
              "  </tbody>\n",
              "</table>\n",
              "</div>"
            ],
            "text/plain": [
              "   Year of release  ...  Rating\n",
              "0             2021  ...     9.2\n",
              "1             2020  ...     9.1\n",
              "2             2020  ...     9.1\n",
              "3             2018  ...     9.1\n",
              "4             2017  ...     9.1\n",
              "\n",
              "[5 rows x 6 columns]"
            ]
          },
          "metadata": {},
          "execution_count": 13
        }
      ]
    },
    {
      "cell_type": "code",
      "metadata": {
        "colab": {
          "base_uri": "https://localhost:8080/"
        },
        "id": "QBm_cRj-Ua3Y",
        "outputId": "addb01ea-54ab-4c21-badb-7af45de78969"
      },
      "source": [
        "networks = []\n",
        "[networks.append(list(set(network.replace(' ','').split(',')))[0]) for network in df['Network']]\n",
        "networks[:5]"
      ],
      "execution_count": 14,
      "outputs": [
        {
          "output_type": "execute_result",
          "data": {
            "text/plain": [
              "['Netflix', 'Netflix', 'tvN', 'tvN', 'Netflix']"
            ]
          },
          "metadata": {},
          "execution_count": 14
        }
      ]
    },
    {
      "cell_type": "code",
      "metadata": {
        "colab": {
          "base_uri": "https://localhost:8080/"
        },
        "id": "9bX4AQY8UhsP",
        "outputId": "681782fe-f0ad-4e74-8b1f-ea1824b341c8"
      },
      "source": [
        "df['Network'] = networks\n",
        "df['Network'].unique()"
      ],
      "execution_count": 15,
      "outputs": [
        {
          "output_type": "execute_result",
          "data": {
            "text/plain": [
              "array(['Netflix', 'tvN', 'jTBC', 'KBS2', 'OCN', 'SBS', 'MBC', 'Viki',\n",
              "       'DaumKakaoTV'], dtype=object)"
            ]
          },
          "metadata": {},
          "execution_count": 15
        }
      ]
    },
    {
      "cell_type": "code",
      "metadata": {
        "colab": {
          "base_uri": "https://localhost:8080/",
          "height": 629
        },
        "id": "SF196mNBUlbR",
        "outputId": "952149db-d095-4d7e-8a53-be2a988c43e1"
      },
      "source": [
        "#Network and Total KDramas\n",
        "plt.figure(figsize=(7,7))\n",
        "\n",
        "df['Network'].value_counts().plot(kind='barh')\n",
        "\n",
        "plt.gca().invert_yaxis()\n",
        "plt.title(\"Networks of Kdramas.\")\n",
        "plt.xlabel('Frequency')\n",
        "plt.show()\n",
        "\n",
        "df['Network'].value_counts()"
      ],
      "execution_count": 16,
      "outputs": [
        {
          "output_type": "display_data",
          "data": {
            "image/png": "[encoded data removed]",
            "text/plain": [
              "<Figure size 504x504 with 1 Axes>"
            ]
          },
          "metadata": {
            "needs_background": "light"
          }
        },
        {
          "output_type": "execute_result",
          "data": {
            "text/plain": [
              "Netflix        20\n",
              "SBS            19\n",
              "tvN            18\n",
              "jTBC           12\n",
              "KBS2           10\n",
              "MBC            10\n",
              "OCN             8\n",
              "Viki            2\n",
              "DaumKakaoTV     1\n",
              "Name: Network, dtype: int64"
            ]
          },
          "metadata": {},
          "execution_count": 16
        }
      ]
    },
    {
      "cell_type": "code",
      "metadata": {
        "id": "U7oS8ftUUwwJ"
      },
      "source": [
        "#Setting OCN and ViKi networks to others because of less count\n",
        "df['Network'].replace(['OCN','Viki'],['Others','Others'],inplace=True)"
      ],
      "execution_count": 17,
      "outputs": []
    },
    {
      "cell_type": "code",
      "metadata": {
        "colab": {
          "base_uri": "https://localhost:8080/",
          "height": 612
        },
        "id": "uK57Geg0U3cx",
        "outputId": "383d50fd-3efb-4c55-8cc5-fe22bef242e6"
      },
      "source": [
        "plt.figure(figsize=(7,7))\n",
        "\n",
        "df['Network'].value_counts().plot(kind='barh')\n",
        "\n",
        "plt.gca().invert_yaxis()\n",
        "plt.title(\"Networks of Kdramas.\")\n",
        "plt.xlabel('Frequency')\n",
        "plt.ylabel('Network')\n",
        "plt.show()\n",
        "\n",
        "df['Network'].value_counts()"
      ],
      "execution_count": 18,
      "outputs": [
        {
          "output_type": "display_data",
          "data": {
            "image/png": "[encoded data removed]",
            "text/plain": [
              "<Figure size 504x504 with 1 Axes>"
            ]
          },
          "metadata": {
            "needs_background": "light"
          }
        },
        {
          "output_type": "execute_result",
          "data": {
            "text/plain": [
              "Netflix        20\n",
              "SBS            19\n",
              "tvN            18\n",
              "jTBC           12\n",
              "Others         10\n",
              "KBS2           10\n",
              "MBC            10\n",
              "DaumKakaoTV     1\n",
              "Name: Network, dtype: int64"
            ]
          },
          "metadata": {},
          "execution_count": 18
        }
      ]
    },
    {
      "cell_type": "code",
      "metadata": {
        "colab": {
          "base_uri": "https://localhost:8080/"
        },
        "id": "UOPFjdp2U-dh",
        "outputId": "657f52d0-fb77-4731-eb40-e40eb09529bf"
      },
      "source": [
        "#Duration in Minutes\n",
        "df['Duration'] = df['Duration'].str.replace('[A-Za-z]\\D+','',regex=True)\n",
        "df['Duration'].head()"
      ],
      "execution_count": 19,
      "outputs": [
        {
          "output_type": "execute_result",
          "data": {
            "text/plain": [
              "0      52 \n",
              "1    1 30 \n",
              "2    1 10 \n",
              "3    1 17 \n",
              "4    1 32 \n",
              "Name: Duration, dtype: object"
            ]
          },
          "metadata": {},
          "execution_count": 19
        }
      ]
    },
    {
      "cell_type": "code",
      "metadata": {
        "colab": {
          "base_uri": "https://localhost:8080/"
        },
        "id": "DfQ_BM0xVJjk",
        "outputId": "44bb3d0c-f75e-445f-ca25-dc5d5e39f201"
      },
      "source": [
        "df['Duration'] = df['Duration'].str.replace(' ','',regex=True)\n",
        "df['Duration'] = pd.to_numeric(df['Duration'])\n",
        "df['Duration'].head()"
      ],
      "execution_count": 20,
      "outputs": [
        {
          "output_type": "execute_result",
          "data": {
            "text/plain": [
              "0     52\n",
              "1    130\n",
              "2    110\n",
              "3    117\n",
              "4    132\n",
              "Name: Duration, dtype: int64"
            ]
          },
          "metadata": {},
          "execution_count": 20
        }
      ]
    },
    {
      "cell_type": "code",
      "metadata": {
        "colab": {
          "base_uri": "https://localhost:8080/",
          "height": 459
        },
        "id": "DYSrc-x5VM3I",
        "outputId": "8d8cb8dc-761f-46e8-aecd-d10fda51034d"
      },
      "source": [
        "plt.figure(figsize=(7,7))\n",
        "sns.histplot(data=df['Duration'])\n",
        "plt.title('Duration in minutes.')\n",
        "plt.show()"
      ],
      "execution_count": 21,
      "outputs": [
        {
          "output_type": "display_data",
          "data": {
            "image/png": "[encoded data removed]",
            "text/plain": [
              "<Figure size 504x504 with 1 Axes>"
            ]
          },
          "metadata": {
            "needs_background": "light"
          }
        }
      ]
    },
    {
      "cell_type": "code",
      "metadata": {
        "colab": {
          "base_uri": "https://localhost:8080/",
          "height": 428
        },
        "id": "0v2eXZjIVXRZ",
        "outputId": "29ada635-7751-4eb6-a482-99022e94ddf6"
      },
      "source": [
        "#Content Rating\n",
        "plt.figure(figsize=(7,7))\n",
        "df['Content Rating'].value_counts().plot(kind='pie',autopct='%.2f%%')\n",
        "plt.title(\"Content Rating\")\n",
        "plt.show()"
      ],
      "execution_count": 22,
      "outputs": [
        {
          "output_type": "display_data",
          "data": {
            "image/png": "[encoded data removed]",
            "text/plain": [
              "<Figure size 504x504 with 1 Axes>"
            ]
          },
          "metadata": {}
        }
      ]
    },
    {
      "cell_type": "code",
      "metadata": {
        "colab": {
          "base_uri": "https://localhost:8080/"
        },
        "id": "ygmXvmdzVdLy",
        "outputId": "e20f5eae-d4a1-4fce-eb23-7b609d9af6f2"
      },
      "source": [
        "df['Content Rating'].value_counts()"
      ],
      "execution_count": 23,
      "outputs": [
        {
          "output_type": "execute_result",
          "data": {
            "text/plain": [
              "15+ - Teens 15 or older                   89\n",
              "18+ Restricted (violence & profanity)     10\n",
              "13+ - Teens 13 or older                    1\n",
              "Name: Content Rating, dtype: int64"
            ]
          },
          "metadata": {},
          "execution_count": 23
        }
      ]
    },
    {
      "cell_type": "code",
      "metadata": {
        "colab": {
          "base_uri": "https://localhost:8080/",
          "height": 279
        },
        "id": "3hLW3vNBVlgp",
        "outputId": "7268738f-3de6-44f3-c2ba-5c34edd2848c"
      },
      "source": [
        "#Rating and Content Rating\n",
        "sns.histplot(data=df[['Rating','Content Rating']],x='Rating',hue='Content Rating')\n",
        "plt.show()"
      ],
      "execution_count": 24,
      "outputs": [
        {
          "output_type": "display_data",
          "data": {
            "image/png": "[encoded data removed]",
            "text/plain": [
              "<Figure size 432x288 with 1 Axes>"
            ]
          },
          "metadata": {
            "needs_background": "light"
          }
        }
      ]
    },
    {
      "cell_type": "code",
      "metadata": {
        "colab": {
          "base_uri": "https://localhost:8080/",
          "height": 297
        },
        "id": "3II3f7AIVvAK",
        "outputId": "bfbe6554-88bd-4bcb-c4af-833f4463de9e"
      },
      "source": [
        "df[['Rating']].describe()"
      ],
      "execution_count": 25,
      "outputs": [
        {
          "output_type": "execute_result",
          "data": {
            "text/html": [
              "<div>\n",
              "<style scoped>\n",
              "    .dataframe tbody tr th:only-of-type {\n",
              "        vertical-align: middle;\n",
              "    }\n",
              "\n",
              "    .dataframe tbody tr th {\n",
              "        vertical-align: top;\n",
              "    }\n",
              "\n",
              "    .dataframe thead th {\n",
              "        text-align: right;\n",
              "    }\n",
              "</style>\n",
              "<table border=\"1\" class=\"dataframe\">\n",
              "  <thead>\n",
              "    <tr style=\"text-align: right;\">\n",
              "      <th></th>\n",
              "      <th>Rating</th>\n",
              "    </tr>\n",
              "  </thead>\n",
              "  <tbody>\n",
              "    <tr>\n",
              "      <th>count</th>\n",
              "      <td>100.000000</td>\n",
              "    </tr>\n",
              "    <tr>\n",
              "      <th>mean</th>\n",
              "      <td>8.703000</td>\n",
              "    </tr>\n",
              "    <tr>\n",
              "      <th>std</th>\n",
              "      <td>0.178351</td>\n",
              "    </tr>\n",
              "    <tr>\n",
              "      <th>min</th>\n",
              "      <td>8.500000</td>\n",
              "    </tr>\n",
              "    <tr>\n",
              "      <th>25%</th>\n",
              "      <td>8.600000</td>\n",
              "    </tr>\n",
              "    <tr>\n",
              "      <th>50%</th>\n",
              "      <td>8.700000</td>\n",
              "    </tr>\n",
              "    <tr>\n",
              "      <th>75%</th>\n",
              "      <td>8.800000</td>\n",
              "    </tr>\n",
              "    <tr>\n",
              "      <th>max</th>\n",
              "      <td>9.200000</td>\n",
              "    </tr>\n",
              "  </tbody>\n",
              "</table>\n",
              "</div>"
            ],
            "text/plain": [
              "           Rating\n",
              "count  100.000000\n",
              "mean     8.703000\n",
              "std      0.178351\n",
              "min      8.500000\n",
              "25%      8.600000\n",
              "50%      8.700000\n",
              "75%      8.800000\n",
              "max      9.200000"
            ]
          },
          "metadata": {},
          "execution_count": 25
        }
      ]
    },
    {
      "cell_type": "code",
      "metadata": {
        "colab": {
          "base_uri": "https://localhost:8080/",
          "height": 204
        },
        "id": "Z92_hgqUVzFS",
        "outputId": "f20d06b3-2e15-4b44-be1e-068f6ec7fde5"
      },
      "source": [
        "#One Hot Encoding\n",
        "df.head()"
      ],
      "execution_count": 26,
      "outputs": [
        {
          "output_type": "execute_result",
          "data": {
            "text/html": [
              "<div>\n",
              "<style scoped>\n",
              "    .dataframe tbody tr th:only-of-type {\n",
              "        vertical-align: middle;\n",
              "    }\n",
              "\n",
              "    .dataframe tbody tr th {\n",
              "        vertical-align: top;\n",
              "    }\n",
              "\n",
              "    .dataframe thead th {\n",
              "        text-align: right;\n",
              "    }\n",
              "</style>\n",
              "<table border=\"1\" class=\"dataframe\">\n",
              "  <thead>\n",
              "    <tr style=\"text-align: right;\">\n",
              "      <th></th>\n",
              "      <th>Year of release</th>\n",
              "      <th>Number of Episode</th>\n",
              "      <th>Network</th>\n",
              "      <th>Duration</th>\n",
              "      <th>Content Rating</th>\n",
              "      <th>Rating</th>\n",
              "    </tr>\n",
              "  </thead>\n",
              "  <tbody>\n",
              "    <tr>\n",
              "      <th>0</th>\n",
              "      <td>2021</td>\n",
              "      <td>10</td>\n",
              "      <td>Netflix</td>\n",
              "      <td>52</td>\n",
              "      <td>18+ Restricted (violence &amp; profanity)</td>\n",
              "      <td>9.2</td>\n",
              "    </tr>\n",
              "    <tr>\n",
              "      <th>1</th>\n",
              "      <td>2020</td>\n",
              "      <td>12</td>\n",
              "      <td>Netflix</td>\n",
              "      <td>130</td>\n",
              "      <td>15+ - Teens 15 or older</td>\n",
              "      <td>9.1</td>\n",
              "    </tr>\n",
              "    <tr>\n",
              "      <th>2</th>\n",
              "      <td>2020</td>\n",
              "      <td>16</td>\n",
              "      <td>tvN</td>\n",
              "      <td>110</td>\n",
              "      <td>15+ - Teens 15 or older</td>\n",
              "      <td>9.1</td>\n",
              "    </tr>\n",
              "    <tr>\n",
              "      <th>3</th>\n",
              "      <td>2018</td>\n",
              "      <td>16</td>\n",
              "      <td>tvN</td>\n",
              "      <td>117</td>\n",
              "      <td>15+ - Teens 15 or older</td>\n",
              "      <td>9.1</td>\n",
              "    </tr>\n",
              "    <tr>\n",
              "      <th>4</th>\n",
              "      <td>2017</td>\n",
              "      <td>16</td>\n",
              "      <td>Netflix</td>\n",
              "      <td>132</td>\n",
              "      <td>15+ - Teens 15 or older</td>\n",
              "      <td>9.1</td>\n",
              "    </tr>\n",
              "  </tbody>\n",
              "</table>\n",
              "</div>"
            ],
            "text/plain": [
              "   Year of release  ...  Rating\n",
              "0             2021  ...     9.2\n",
              "1             2020  ...     9.1\n",
              "2             2020  ...     9.1\n",
              "3             2018  ...     9.1\n",
              "4             2017  ...     9.1\n",
              "\n",
              "[5 rows x 6 columns]"
            ]
          },
          "metadata": {},
          "execution_count": 26
        }
      ]
    },
    {
      "cell_type": "code",
      "metadata": {
        "colab": {
          "base_uri": "https://localhost:8080/",
          "height": 221
        },
        "id": "_KJIEz5ZV8JC",
        "outputId": "75adb906-222a-4905-fe17-5a72db7efb85"
      },
      "source": [
        "cols_to_encode = ['Network','Content Rating']\n",
        "dummies = pd.get_dummies(df[cols_to_encode],drop_first=True)\n",
        "dummies.head()"
      ],
      "execution_count": 27,
      "outputs": [
        {
          "output_type": "execute_result",
          "data": {
            "text/html": [
              "<div>\n",
              "<style scoped>\n",
              "    .dataframe tbody tr th:only-of-type {\n",
              "        vertical-align: middle;\n",
              "    }\n",
              "\n",
              "    .dataframe tbody tr th {\n",
              "        vertical-align: top;\n",
              "    }\n",
              "\n",
              "    .dataframe thead th {\n",
              "        text-align: right;\n",
              "    }\n",
              "</style>\n",
              "<table border=\"1\" class=\"dataframe\">\n",
              "  <thead>\n",
              "    <tr style=\"text-align: right;\">\n",
              "      <th></th>\n",
              "      <th>Network_KBS2</th>\n",
              "      <th>Network_MBC</th>\n",
              "      <th>Network_Netflix</th>\n",
              "      <th>Network_Others</th>\n",
              "      <th>Network_SBS</th>\n",
              "      <th>Network_jTBC</th>\n",
              "      <th>Network_tvN</th>\n",
              "      <th>Content Rating_15+ - Teens 15 or older</th>\n",
              "      <th>Content Rating_18+ Restricted (violence &amp; profanity)</th>\n",
              "    </tr>\n",
              "  </thead>\n",
              "  <tbody>\n",
              "    <tr>\n",
              "      <th>0</th>\n",
              "      <td>0</td>\n",
              "      <td>0</td>\n",
              "      <td>1</td>\n",
              "      <td>0</td>\n",
              "      <td>0</td>\n",
              "      <td>0</td>\n",
              "      <td>0</td>\n",
              "      <td>0</td>\n",
              "      <td>1</td>\n",
              "    </tr>\n",
              "    <tr>\n",
              "      <th>1</th>\n",
              "      <td>0</td>\n",
              "      <td>0</td>\n",
              "      <td>1</td>\n",
              "      <td>0</td>\n",
              "      <td>0</td>\n",
              "      <td>0</td>\n",
              "      <td>0</td>\n",
              "      <td>1</td>\n",
              "      <td>0</td>\n",
              "    </tr>\n",
              "    <tr>\n",
              "      <th>2</th>\n",
              "      <td>0</td>\n",
              "      <td>0</td>\n",
              "      <td>0</td>\n",
              "      <td>0</td>\n",
              "      <td>0</td>\n",
              "      <td>0</td>\n",
              "      <td>1</td>\n",
              "      <td>1</td>\n",
              "      <td>0</td>\n",
              "    </tr>\n",
              "    <tr>\n",
              "      <th>3</th>\n",
              "      <td>0</td>\n",
              "      <td>0</td>\n",
              "      <td>0</td>\n",
              "      <td>0</td>\n",
              "      <td>0</td>\n",
              "      <td>0</td>\n",
              "      <td>1</td>\n",
              "      <td>1</td>\n",
              "      <td>0</td>\n",
              "    </tr>\n",
              "    <tr>\n",
              "      <th>4</th>\n",
              "      <td>0</td>\n",
              "      <td>0</td>\n",
              "      <td>1</td>\n",
              "      <td>0</td>\n",
              "      <td>0</td>\n",
              "      <td>0</td>\n",
              "      <td>0</td>\n",
              "      <td>1</td>\n",
              "      <td>0</td>\n",
              "    </tr>\n",
              "  </tbody>\n",
              "</table>\n",
              "</div>"
            ],
            "text/plain": [
              "   Network_KBS2  ...  Content Rating_18+ Restricted (violence & profanity) \n",
              "0             0  ...                                                  1    \n",
              "1             0  ...                                                  0    \n",
              "2             0  ...                                                  0    \n",
              "3             0  ...                                                  0    \n",
              "4             0  ...                                                  0    \n",
              "\n",
              "[5 rows x 9 columns]"
            ]
          },
          "metadata": {},
          "execution_count": 27
        }
      ]
    },
    {
      "cell_type": "code",
      "metadata": {
        "colab": {
          "base_uri": "https://localhost:8080/",
          "height": 204
        },
        "id": "IgdswZObWCkq",
        "outputId": "d2df6156-db65-4415-edac-4fbcfd314cab"
      },
      "source": [
        "df.drop(cols_to_encode, axis=1,inplace=True)\n",
        "df.head()"
      ],
      "execution_count": 28,
      "outputs": [
        {
          "output_type": "execute_result",
          "data": {
            "text/html": [
              "<div>\n",
              "<style scoped>\n",
              "    .dataframe tbody tr th:only-of-type {\n",
              "        vertical-align: middle;\n",
              "    }\n",
              "\n",
              "    .dataframe tbody tr th {\n",
              "        vertical-align: top;\n",
              "    }\n",
              "\n",
              "    .dataframe thead th {\n",
              "        text-align: right;\n",
              "    }\n",
              "</style>\n",
              "<table border=\"1\" class=\"dataframe\">\n",
              "  <thead>\n",
              "    <tr style=\"text-align: right;\">\n",
              "      <th></th>\n",
              "      <th>Year of release</th>\n",
              "      <th>Number of Episode</th>\n",
              "      <th>Duration</th>\n",
              "      <th>Rating</th>\n",
              "    </tr>\n",
              "  </thead>\n",
              "  <tbody>\n",
              "    <tr>\n",
              "      <th>0</th>\n",
              "      <td>2021</td>\n",
              "      <td>10</td>\n",
              "      <td>52</td>\n",
              "      <td>9.2</td>\n",
              "    </tr>\n",
              "    <tr>\n",
              "      <th>1</th>\n",
              "      <td>2020</td>\n",
              "      <td>12</td>\n",
              "      <td>130</td>\n",
              "      <td>9.1</td>\n",
              "    </tr>\n",
              "    <tr>\n",
              "      <th>2</th>\n",
              "      <td>2020</td>\n",
              "      <td>16</td>\n",
              "      <td>110</td>\n",
              "      <td>9.1</td>\n",
              "    </tr>\n",
              "    <tr>\n",
              "      <th>3</th>\n",
              "      <td>2018</td>\n",
              "      <td>16</td>\n",
              "      <td>117</td>\n",
              "      <td>9.1</td>\n",
              "    </tr>\n",
              "    <tr>\n",
              "      <th>4</th>\n",
              "      <td>2017</td>\n",
              "      <td>16</td>\n",
              "      <td>132</td>\n",
              "      <td>9.1</td>\n",
              "    </tr>\n",
              "  </tbody>\n",
              "</table>\n",
              "</div>"
            ],
            "text/plain": [
              "   Year of release  Number of Episode  Duration  Rating\n",
              "0             2021                 10        52     9.2\n",
              "1             2020                 12       130     9.1\n",
              "2             2020                 16       110     9.1\n",
              "3             2018                 16       117     9.1\n",
              "4             2017                 16       132     9.1"
            ]
          },
          "metadata": {},
          "execution_count": 28
        }
      ]
    },
    {
      "cell_type": "code",
      "metadata": {
        "id": "mYC9TcnZWGHT"
      },
      "source": [
        "#Feature Scaling\n",
        "scale = MinMaxScaler()\n",
        "scalled = scale.fit_transform(df)"
      ],
      "execution_count": 29,
      "outputs": []
    },
    {
      "cell_type": "code",
      "metadata": {
        "id": "23Q9lqHCWLMC"
      },
      "source": [
        "i=0\n",
        "for col in df.columns:\n",
        "    df[col] = scalled[:,i]\n",
        "    i += 1"
      ],
      "execution_count": 30,
      "outputs": []
    },
    {
      "cell_type": "code",
      "metadata": {
        "colab": {
          "base_uri": "https://localhost:8080/",
          "height": 204
        },
        "id": "tqle9wP1WQwT",
        "outputId": "9e668795-a704-4dc7-ed1e-c2eb9e02b543"
      },
      "source": [
        "df.head()"
      ],
      "execution_count": 31,
      "outputs": [
        {
          "output_type": "execute_result",
          "data": {
            "text/html": [
              "<div>\n",
              "<style scoped>\n",
              "    .dataframe tbody tr th:only-of-type {\n",
              "        vertical-align: middle;\n",
              "    }\n",
              "\n",
              "    .dataframe tbody tr th {\n",
              "        vertical-align: top;\n",
              "    }\n",
              "\n",
              "    .dataframe thead th {\n",
              "        text-align: right;\n",
              "    }\n",
              "</style>\n",
              "<table border=\"1\" class=\"dataframe\">\n",
              "  <thead>\n",
              "    <tr style=\"text-align: right;\">\n",
              "      <th></th>\n",
              "      <th>Year of release</th>\n",
              "      <th>Number of Episode</th>\n",
              "      <th>Duration</th>\n",
              "      <th>Rating</th>\n",
              "    </tr>\n",
              "  </thead>\n",
              "  <tbody>\n",
              "    <tr>\n",
              "      <th>0</th>\n",
              "      <td>1.000000</td>\n",
              "      <td>0.042553</td>\n",
              "      <td>0.312500</td>\n",
              "      <td>1.000000</td>\n",
              "    </tr>\n",
              "    <tr>\n",
              "      <th>1</th>\n",
              "      <td>0.944444</td>\n",
              "      <td>0.063830</td>\n",
              "      <td>0.921875</td>\n",
              "      <td>0.857143</td>\n",
              "    </tr>\n",
              "    <tr>\n",
              "      <th>2</th>\n",
              "      <td>0.944444</td>\n",
              "      <td>0.106383</td>\n",
              "      <td>0.765625</td>\n",
              "      <td>0.857143</td>\n",
              "    </tr>\n",
              "    <tr>\n",
              "      <th>3</th>\n",
              "      <td>0.833333</td>\n",
              "      <td>0.106383</td>\n",
              "      <td>0.820312</td>\n",
              "      <td>0.857143</td>\n",
              "    </tr>\n",
              "    <tr>\n",
              "      <th>4</th>\n",
              "      <td>0.777778</td>\n",
              "      <td>0.106383</td>\n",
              "      <td>0.937500</td>\n",
              "      <td>0.857143</td>\n",
              "    </tr>\n",
              "  </tbody>\n",
              "</table>\n",
              "</div>"
            ],
            "text/plain": [
              "   Year of release  Number of Episode  Duration    Rating\n",
              "0         1.000000           0.042553  0.312500  1.000000\n",
              "1         0.944444           0.063830  0.921875  0.857143\n",
              "2         0.944444           0.106383  0.765625  0.857143\n",
              "3         0.833333           0.106383  0.820312  0.857143\n",
              "4         0.777778           0.106383  0.937500  0.857143"
            ]
          },
          "metadata": {},
          "execution_count": 31
        }
      ]
    },
    {
      "cell_type": "code",
      "metadata": {
        "colab": {
          "base_uri": "https://localhost:8080/"
        },
        "id": "nvwAADYIWUP6",
        "outputId": "6347d19e-78de-4c3d-9fb8-801b161101de"
      },
      "source": [
        "new_df = pd.concat([df, dummies],axis=1)\n",
        "new_df.shape"
      ],
      "execution_count": 32,
      "outputs": [
        {
          "output_type": "execute_result",
          "data": {
            "text/plain": [
              "(100, 13)"
            ]
          },
          "metadata": {},
          "execution_count": 32
        }
      ]
    },
    {
      "cell_type": "code",
      "metadata": {
        "colab": {
          "base_uri": "https://localhost:8080/",
          "height": 309
        },
        "id": "cS1y8sgIWYOs",
        "outputId": "035068dc-f921-42d5-ed97-a7ba266ea8a2"
      },
      "source": [
        "new_df.head()"
      ],
      "execution_count": 33,
      "outputs": [
        {
          "output_type": "execute_result",
          "data": {
            "text/html": [
              "<div>\n",
              "<style scoped>\n",
              "    .dataframe tbody tr th:only-of-type {\n",
              "        vertical-align: middle;\n",
              "    }\n",
              "\n",
              "    .dataframe tbody tr th {\n",
              "        vertical-align: top;\n",
              "    }\n",
              "\n",
              "    .dataframe thead th {\n",
              "        text-align: right;\n",
              "    }\n",
              "</style>\n",
              "<table border=\"1\" class=\"dataframe\">\n",
              "  <thead>\n",
              "    <tr style=\"text-align: right;\">\n",
              "      <th></th>\n",
              "      <th>Year of release</th>\n",
              "      <th>Number of Episode</th>\n",
              "      <th>Duration</th>\n",
              "      <th>Rating</th>\n",
              "      <th>Network_KBS2</th>\n",
              "      <th>Network_MBC</th>\n",
              "      <th>Network_Netflix</th>\n",
              "      <th>Network_Others</th>\n",
              "      <th>Network_SBS</th>\n",
              "      <th>Network_jTBC</th>\n",
              "      <th>Network_tvN</th>\n",
              "      <th>Content Rating_15+ - Teens 15 or older</th>\n",
              "      <th>Content Rating_18+ Restricted (violence &amp; profanity)</th>\n",
              "    </tr>\n",
              "  </thead>\n",
              "  <tbody>\n",
              "    <tr>\n",
              "      <th>0</th>\n",
              "      <td>1.000000</td>\n",
              "      <td>0.042553</td>\n",
              "      <td>0.312500</td>\n",
              "      <td>1.000000</td>\n",
              "      <td>0</td>\n",
              "      <td>0</td>\n",
              "      <td>1</td>\n",
              "      <td>0</td>\n",
              "      <td>0</td>\n",
              "      <td>0</td>\n",
              "      <td>0</td>\n",
              "      <td>0</td>\n",
              "      <td>1</td>\n",
              "    </tr>\n",
              "    <tr>\n",
              "      <th>1</th>\n",
              "      <td>0.944444</td>\n",
              "      <td>0.063830</td>\n",
              "      <td>0.921875</td>\n",
              "      <td>0.857143</td>\n",
              "      <td>0</td>\n",
              "      <td>0</td>\n",
              "      <td>1</td>\n",
              "      <td>0</td>\n",
              "      <td>0</td>\n",
              "      <td>0</td>\n",
              "      <td>0</td>\n",
              "      <td>1</td>\n",
              "      <td>0</td>\n",
              "    </tr>\n",
              "    <tr>\n",
              "      <th>2</th>\n",
              "      <td>0.944444</td>\n",
              "      <td>0.106383</td>\n",
              "      <td>0.765625</td>\n",
              "      <td>0.857143</td>\n",
              "      <td>0</td>\n",
              "      <td>0</td>\n",
              "      <td>0</td>\n",
              "      <td>0</td>\n",
              "      <td>0</td>\n",
              "      <td>0</td>\n",
              "      <td>1</td>\n",
              "      <td>1</td>\n",
              "      <td>0</td>\n",
              "    </tr>\n",
              "    <tr>\n",
              "      <th>3</th>\n",
              "      <td>0.833333</td>\n",
              "      <td>0.106383</td>\n",
              "      <td>0.820312</td>\n",
              "      <td>0.857143</td>\n",
              "      <td>0</td>\n",
              "      <td>0</td>\n",
              "      <td>0</td>\n",
              "      <td>0</td>\n",
              "      <td>0</td>\n",
              "      <td>0</td>\n",
              "      <td>1</td>\n",
              "      <td>1</td>\n",
              "      <td>0</td>\n",
              "    </tr>\n",
              "    <tr>\n",
              "      <th>4</th>\n",
              "      <td>0.777778</td>\n",
              "      <td>0.106383</td>\n",
              "      <td>0.937500</td>\n",
              "      <td>0.857143</td>\n",
              "      <td>0</td>\n",
              "      <td>0</td>\n",
              "      <td>1</td>\n",
              "      <td>0</td>\n",
              "      <td>0</td>\n",
              "      <td>0</td>\n",
              "      <td>0</td>\n",
              "      <td>1</td>\n",
              "      <td>0</td>\n",
              "    </tr>\n",
              "  </tbody>\n",
              "</table>\n",
              "</div>"
            ],
            "text/plain": [
              "   Year of release  ...  Content Rating_18+ Restricted (violence & profanity) \n",
              "0         1.000000  ...                                                  1    \n",
              "1         0.944444  ...                                                  0    \n",
              "2         0.944444  ...                                                  0    \n",
              "3         0.833333  ...                                                  0    \n",
              "4         0.777778  ...                                                  0    \n",
              "\n",
              "[5 rows x 13 columns]"
            ]
          },
          "metadata": {},
          "execution_count": 33
        }
      ]
    },
    {
      "cell_type": "code",
      "metadata": {
        "id": "FbrJ3OW-Wbz6"
      },
      "source": [
        "kdrama_names['Name'].loc[23]='kingdom'"
      ],
      "execution_count": 34,
      "outputs": []
    },
    {
      "cell_type": "code",
      "metadata": {
        "id": "YKUyg8OEWfoh"
      },
      "source": [
        "new_df.index = [drama for drama in kdrama_names['Name']]\n",
        "synopsis.index = [drama for drama in kdrama_names['Name']]"
      ],
      "execution_count": 35,
      "outputs": []
    },
    {
      "cell_type": "code",
      "metadata": {
        "colab": {
          "base_uri": "https://localhost:8080/",
          "height": 394
        },
        "id": "_FjlbCQGWifa",
        "outputId": "5be966d3-0d9a-40f7-bf21-2e319dcc3b52"
      },
      "source": [
        "new_df.head()"
      ],
      "execution_count": 36,
      "outputs": [
        {
          "output_type": "execute_result",
          "data": {
            "text/html": [
              "<div>\n",
              "<style scoped>\n",
              "    .dataframe tbody tr th:only-of-type {\n",
              "        vertical-align: middle;\n",
              "    }\n",
              "\n",
              "    .dataframe tbody tr th {\n",
              "        vertical-align: top;\n",
              "    }\n",
              "\n",
              "    .dataframe thead th {\n",
              "        text-align: right;\n",
              "    }\n",
              "</style>\n",
              "<table border=\"1\" class=\"dataframe\">\n",
              "  <thead>\n",
              "    <tr style=\"text-align: right;\">\n",
              "      <th></th>\n",
              "      <th>Year of release</th>\n",
              "      <th>Number of Episode</th>\n",
              "      <th>Duration</th>\n",
              "      <th>Rating</th>\n",
              "      <th>Network_KBS2</th>\n",
              "      <th>Network_MBC</th>\n",
              "      <th>Network_Netflix</th>\n",
              "      <th>Network_Others</th>\n",
              "      <th>Network_SBS</th>\n",
              "      <th>Network_jTBC</th>\n",
              "      <th>Network_tvN</th>\n",
              "      <th>Content Rating_15+ - Teens 15 or older</th>\n",
              "      <th>Content Rating_18+ Restricted (violence &amp; profanity)</th>\n",
              "    </tr>\n",
              "  </thead>\n",
              "  <tbody>\n",
              "    <tr>\n",
              "      <th>Move to Heaven</th>\n",
              "      <td>1.000000</td>\n",
              "      <td>0.042553</td>\n",
              "      <td>0.312500</td>\n",
              "      <td>1.000000</td>\n",
              "      <td>0</td>\n",
              "      <td>0</td>\n",
              "      <td>1</td>\n",
              "      <td>0</td>\n",
              "      <td>0</td>\n",
              "      <td>0</td>\n",
              "      <td>0</td>\n",
              "      <td>0</td>\n",
              "      <td>1</td>\n",
              "    </tr>\n",
              "    <tr>\n",
              "      <th>Hospital Playlist</th>\n",
              "      <td>0.944444</td>\n",
              "      <td>0.063830</td>\n",
              "      <td>0.921875</td>\n",
              "      <td>0.857143</td>\n",
              "      <td>0</td>\n",
              "      <td>0</td>\n",
              "      <td>1</td>\n",
              "      <td>0</td>\n",
              "      <td>0</td>\n",
              "      <td>0</td>\n",
              "      <td>0</td>\n",
              "      <td>1</td>\n",
              "      <td>0</td>\n",
              "    </tr>\n",
              "    <tr>\n",
              "      <th>Flower of Evil</th>\n",
              "      <td>0.944444</td>\n",
              "      <td>0.106383</td>\n",
              "      <td>0.765625</td>\n",
              "      <td>0.857143</td>\n",
              "      <td>0</td>\n",
              "      <td>0</td>\n",
              "      <td>0</td>\n",
              "      <td>0</td>\n",
              "      <td>0</td>\n",
              "      <td>0</td>\n",
              "      <td>1</td>\n",
              "      <td>1</td>\n",
              "      <td>0</td>\n",
              "    </tr>\n",
              "    <tr>\n",
              "      <th>My Mister</th>\n",
              "      <td>0.833333</td>\n",
              "      <td>0.106383</td>\n",
              "      <td>0.820312</td>\n",
              "      <td>0.857143</td>\n",
              "      <td>0</td>\n",
              "      <td>0</td>\n",
              "      <td>0</td>\n",
              "      <td>0</td>\n",
              "      <td>0</td>\n",
              "      <td>0</td>\n",
              "      <td>1</td>\n",
              "      <td>1</td>\n",
              "      <td>0</td>\n",
              "    </tr>\n",
              "    <tr>\n",
              "      <th>Prison Playbook</th>\n",
              "      <td>0.777778</td>\n",
              "      <td>0.106383</td>\n",
              "      <td>0.937500</td>\n",
              "      <td>0.857143</td>\n",
              "      <td>0</td>\n",
              "      <td>0</td>\n",
              "      <td>1</td>\n",
              "      <td>0</td>\n",
              "      <td>0</td>\n",
              "      <td>0</td>\n",
              "      <td>0</td>\n",
              "      <td>1</td>\n",
              "      <td>0</td>\n",
              "    </tr>\n",
              "  </tbody>\n",
              "</table>\n",
              "</div>"
            ],
            "text/plain": [
              "                   Year of release  ...  Content Rating_18+ Restricted (violence & profanity) \n",
              "Move to Heaven            1.000000  ...                                                  1    \n",
              "Hospital Playlist         0.944444  ...                                                  0    \n",
              "Flower of Evil            0.944444  ...                                                  0    \n",
              "My Mister                 0.833333  ...                                                  0    \n",
              "Prison Playbook           0.777778  ...                                                  0    \n",
              "\n",
              "[5 rows x 13 columns]"
            ]
          },
          "metadata": {},
          "execution_count": 36
        }
      ]
    },
    {
      "cell_type": "code",
      "metadata": {
        "id": "gbpv6UfqWn4K"
      },
      "source": [
        "def getRecommendation_dramas_for(drama_name,no_of_recommend=5,get_similarity_rate=False):\n",
        "    \n",
        "    kn = NearestNeighbors(n_neighbors=no_of_recommend+1,metric='manhattan')\n",
        "    kn.fit(new_df)\n",
        "    \n",
        "    distances, indices = kn.kneighbors(new_df.loc[drama_name])\n",
        "    \n",
        "    print(f'Similar K-Dramas for \"{drama_name[0]}\":')\n",
        "    nearest_dramas = [kdrama_names.loc[i][0] for i in indices.flatten()][1:]\n",
        "    if not get_similarity_rate:\n",
        "        return nearest_dramas\n",
        "    sim_rates = []\n",
        "    synopsis_ = []\n",
        "    for drama in nearest_dramas:\n",
        "        synopsis_.append(synopsis.loc[drama][0])\n",
        "        sim = cosine_similarity(new_df.loc[drama_name],[new_df.loc[drama]]).flatten()\n",
        "        sim_rates.append(sim[0])\n",
        "    recommended_dramas = pd.DataFrame({'Recommended Drama':nearest_dramas,'Similarity':sim_rates,'Synopsis':synopsis_})\n",
        "    recommended_dramas.sort_values(by='Similarity',ascending=True)\n",
        "    return recommended_dramas"
      ],
      "execution_count": 37,
      "outputs": []
    },
    {
      "cell_type": "code",
      "metadata": {
        "colab": {
          "base_uri": "https://localhost:8080/"
        },
        "id": "d8l7OpsTWtNy",
        "outputId": "b44d09ee-01a4-4744-f327-d098b592f8e0"
      },
      "source": [
        "#Predicting Drama Recommendation\n",
        "rd1 = kdrama_names.loc[0]\n",
        "rd1"
      ],
      "execution_count": 38,
      "outputs": [
        {
          "output_type": "execute_result",
          "data": {
            "text/plain": [
              "Name    Move to Heaven\n",
              "Name: 0, dtype: object"
            ]
          },
          "metadata": {},
          "execution_count": 38
        }
      ]
    },
    {
      "cell_type": "code",
      "metadata": {
        "colab": {
          "base_uri": "https://localhost:8080/"
        },
        "id": "r98S9SUzW0Nl",
        "outputId": "733e9d7a-bd02-46e0-d36d-9cccf7d7e3db"
      },
      "source": [
        "getRecommendation_dramas_for(rd1,no_of_recommend=5)"
      ],
      "execution_count": 39,
      "outputs": [
        {
          "output_type": "stream",
          "name": "stdout",
          "text": [
            "Similar K-Dramas for \"Move to Heaven\":\n"
          ]
        },
        {
          "output_type": "execute_result",
          "data": {
            "text/plain": [
              "['Kingdom', 'Sweet Home', 'kingdom', 'Extracurricular', 'Navillera']"
            ]
          },
          "metadata": {},
          "execution_count": 39
        }
      ]
    },
    {
      "cell_type": "code",
      "metadata": {
        "colab": {
          "base_uri": "https://localhost:8080/"
        },
        "id": "_h2mdJYuW386",
        "outputId": "d8604559-e796-4d70-b420-b3726347d9e5"
      },
      "source": [
        "rd2 = kdrama_names.loc[10]\n",
        "rd2"
      ],
      "execution_count": 40,
      "outputs": [
        {
          "output_type": "execute_result",
          "data": {
            "text/plain": [
              "Name    Mother\n",
              "Name: 10, dtype: object"
            ]
          },
          "metadata": {},
          "execution_count": 40
        }
      ]
    },
    {
      "cell_type": "code",
      "metadata": {
        "colab": {
          "base_uri": "https://localhost:8080/",
          "height": 221
        },
        "id": "RTtDZmHwW7bk",
        "outputId": "8081e294-705b-43a5-f850-7037b135d67e"
      },
      "source": [
        "getRecommendation_dramas_for(rd2,get_similarity_rate=True)"
      ],
      "execution_count": 41,
      "outputs": [
        {
          "output_type": "stream",
          "name": "stdout",
          "text": [
            "Similar K-Dramas for \"Mother\":\n"
          ]
        },
        {
          "output_type": "execute_result",
          "data": {
            "text/html": [
              "<div>\n",
              "<style scoped>\n",
              "    .dataframe tbody tr th:only-of-type {\n",
              "        vertical-align: middle;\n",
              "    }\n",
              "\n",
              "    .dataframe tbody tr th {\n",
              "        vertical-align: top;\n",
              "    }\n",
              "\n",
              "    .dataframe thead th {\n",
              "        text-align: right;\n",
              "    }\n",
              "</style>\n",
              "<table border=\"1\" class=\"dataframe\">\n",
              "  <thead>\n",
              "    <tr style=\"text-align: right;\">\n",
              "      <th></th>\n",
              "      <th>Recommended Drama</th>\n",
              "      <th>Similarity</th>\n",
              "      <th>Synopsis</th>\n",
              "    </tr>\n",
              "  </thead>\n",
              "  <tbody>\n",
              "    <tr>\n",
              "      <th>0</th>\n",
              "      <td>What's Wrong with Secretary Kim</td>\n",
              "      <td>0.916882</td>\n",
              "      <td>The series revolves around the narcissistic Le...</td>\n",
              "    </tr>\n",
              "    <tr>\n",
              "      <th>1</th>\n",
              "      <td>Signal</td>\n",
              "      <td>0.908419</td>\n",
              "      <td>Fifteen years ago, a young girl was kidnapped ...</td>\n",
              "    </tr>\n",
              "    <tr>\n",
              "      <th>2</th>\n",
              "      <td>My Mister</td>\n",
              "      <td>0.914022</td>\n",
              "      <td>Park Dong Hoon is a middle-aged engineer who i...</td>\n",
              "    </tr>\n",
              "    <tr>\n",
              "      <th>3</th>\n",
              "      <td>Mr. Queen</td>\n",
              "      <td>0.910188</td>\n",
              "      <td>Jang Bong Hwan is a South Korean chef who has ...</td>\n",
              "    </tr>\n",
              "    <tr>\n",
              "      <th>4</th>\n",
              "      <td>Flower of Evil</td>\n",
              "      <td>0.926961</td>\n",
              "      <td>Although Baek Hee Sung is hiding a dark secret...</td>\n",
              "    </tr>\n",
              "  </tbody>\n",
              "</table>\n",
              "</div>"
            ],
            "text/plain": [
              "                 Recommended Drama  ...                                           Synopsis\n",
              "0  What's Wrong with Secretary Kim  ...  The series revolves around the narcissistic Le...\n",
              "1                           Signal  ...  Fifteen years ago, a young girl was kidnapped ...\n",
              "2                        My Mister  ...  Park Dong Hoon is a middle-aged engineer who i...\n",
              "3                        Mr. Queen  ...  Jang Bong Hwan is a South Korean chef who has ...\n",
              "4                   Flower of Evil  ...  Although Baek Hee Sung is hiding a dark secret...\n",
              "\n",
              "[5 rows x 3 columns]"
            ]
          },
          "metadata": {},
          "execution_count": 41
        }
      ]
    },
    {
      "cell_type": "code",
      "metadata": {
        "colab": {
          "base_uri": "https://localhost:8080/"
        },
        "id": "W4-xVi0eXCLa",
        "outputId": "51f5b40d-d1a7-45b1-fb9d-ea62b40540b7"
      },
      "source": [
        "rd3 = kdrama_names.loc[1]\n",
        "rd3"
      ],
      "execution_count": 42,
      "outputs": [
        {
          "output_type": "execute_result",
          "data": {
            "text/plain": [
              "Name    Hospital Playlist\n",
              "Name: 1, dtype: object"
            ]
          },
          "metadata": {},
          "execution_count": 42
        }
      ]
    },
    {
      "cell_type": "code",
      "metadata": {
        "colab": {
          "base_uri": "https://localhost:8080/",
          "height": 221
        },
        "id": "2y998DNpXF-z",
        "outputId": "1d51bb11-3131-48b4-f060-3317618b92c1"
      },
      "source": [
        "getRecommendation_dramas_for(rd3,get_similarity_rate=True)"
      ],
      "execution_count": 43,
      "outputs": [
        {
          "output_type": "stream",
          "name": "stdout",
          "text": [
            "Similar K-Dramas for \"Hospital Playlist\":\n"
          ]
        },
        {
          "output_type": "execute_result",
          "data": {
            "text/html": [
              "<div>\n",
              "<style scoped>\n",
              "    .dataframe tbody tr th:only-of-type {\n",
              "        vertical-align: middle;\n",
              "    }\n",
              "\n",
              "    .dataframe tbody tr th {\n",
              "        vertical-align: top;\n",
              "    }\n",
              "\n",
              "    .dataframe thead th {\n",
              "        text-align: right;\n",
              "    }\n",
              "</style>\n",
              "<table border=\"1\" class=\"dataframe\">\n",
              "  <thead>\n",
              "    <tr style=\"text-align: right;\">\n",
              "      <th></th>\n",
              "      <th>Recommended Drama</th>\n",
              "      <th>Similarity</th>\n",
              "      <th>Synopsis</th>\n",
              "    </tr>\n",
              "  </thead>\n",
              "  <tbody>\n",
              "    <tr>\n",
              "      <th>0</th>\n",
              "      <td>Prison Playbook</td>\n",
              "      <td>0.996988</td>\n",
              "      <td>Kim Je Hyuk, a famous baseball player, is arre...</td>\n",
              "    </tr>\n",
              "    <tr>\n",
              "      <th>1</th>\n",
              "      <td>Crash Landing on You</td>\n",
              "      <td>0.997901</td>\n",
              "      <td>After getting into a paragliding accident, Sou...</td>\n",
              "    </tr>\n",
              "    <tr>\n",
              "      <th>2</th>\n",
              "      <td>It's Okay to Not Be Okay</td>\n",
              "      <td>0.996995</td>\n",
              "      <td>Moon Gang Tae is a community health worker at ...</td>\n",
              "    </tr>\n",
              "    <tr>\n",
              "      <th>3</th>\n",
              "      <td>Vincenzo</td>\n",
              "      <td>0.996514</td>\n",
              "      <td>At the age of eight, Park Joo Hyeong went to I...</td>\n",
              "    </tr>\n",
              "    <tr>\n",
              "      <th>4</th>\n",
              "      <td>Mr. Sunshine</td>\n",
              "      <td>0.989576</td>\n",
              "      <td>Mr. Sunshine centers on a young boy born into ...</td>\n",
              "    </tr>\n",
              "  </tbody>\n",
              "</table>\n",
              "</div>"
            ],
            "text/plain": [
              "          Recommended Drama  ...                                           Synopsis\n",
              "0           Prison Playbook  ...  Kim Je Hyuk, a famous baseball player, is arre...\n",
              "1      Crash Landing on You  ...  After getting into a paragliding accident, Sou...\n",
              "2  It's Okay to Not Be Okay  ...  Moon Gang Tae is a community health worker at ...\n",
              "3                  Vincenzo  ...  At the age of eight, Park Joo Hyeong went to I...\n",
              "4              Mr. Sunshine  ...  Mr. Sunshine centers on a young boy born into ...\n",
              "\n",
              "[5 rows x 3 columns]"
            ]
          },
          "metadata": {},
          "execution_count": 43
        }
      ]
    },
    {
      "cell_type": "code",
      "metadata": {
        "id": "F1ktyG1GXLGy"
      },
      "source": [
        "def print_similiar_drama_Synopsis(recommended_df):\n",
        "    rdf = recommended_df\n",
        "    rdf_cols = rdf['Synopsis']\n",
        "    dramas = rdf['Recommended Drama']\n",
        "    for i in range(5):\n",
        "        print(dramas[i])\n",
        "        print(rdf_cols[i])\n",
        "        print('\\n')"
      ],
      "execution_count": 44,
      "outputs": []
    },
    {
      "cell_type": "code",
      "metadata": {
        "colab": {
          "base_uri": "https://localhost:8080/"
        },
        "id": "ImBeMWH5XP1S",
        "outputId": "7e5bde87-a663-4a03-ecef-a4d07cda9582"
      },
      "source": [
        "rd4 = kdrama_names.loc[8]\n",
        "rd4"
      ],
      "execution_count": 45,
      "outputs": [
        {
          "output_type": "execute_result",
          "data": {
            "text/plain": [
              "Name    Navillera\n",
              "Name: 8, dtype: object"
            ]
          },
          "metadata": {},
          "execution_count": 45
        }
      ]
    },
    {
      "cell_type": "code",
      "metadata": {
        "colab": {
          "base_uri": "https://localhost:8080/"
        },
        "id": "gEaXSj3-XTna",
        "outputId": "536d2bb1-a602-45b2-df34-a2e8d193f0b6"
      },
      "source": [
        "rdf4 = getRecommendation_dramas_for(rd4,no_of_recommend=10,get_similarity_rate=True)\n",
        "print_similiar_drama_Synopsis(rdf4)"
      ],
      "execution_count": 46,
      "outputs": [
        {
          "output_type": "stream",
          "name": "stdout",
          "text": [
            "Similar K-Dramas for \"Navillera\":\n",
            "Stranger 2\n",
            "The prosecutor's office and the police find themselves on opposing sides. The prosecutors, including elite prosecutor Woo Tae Ha, want discretionary power over investigations. Meanwhile, the police, including Choi Bit, tries to get complete investigative authority that is independent of the prosecutor's office.\n",
            "\n",
            "\n",
            "It's Okay to Not Be Okay\n",
            "Moon Gang Tae is a community health worker at a psychiatric ward who was blessed with everything including a great body, smarts, ability to sympathize with others, patience, ability to react quickly, stamina, and more. Meanwhile, Ko Moon Young is a popular writer of children’s literature who, due to suffering from an antisocial personality disorder, seems extremely selfish, arrogant, and rude.\n",
            "\n",
            "\n",
            "Vincenzo\n",
            "At the age of eight, Park Joo Hyeong went to Italy after being adopted. Now an adult, he is known as Vincenzo Cassano to the Mafia, who employ him as a consigliere. Because mafia factions are at war with each other, he flees to South Korea, where he gets involved with Lawyer Hong Cha Young. She is the type of attorney who will do anything to win a case. Now back at his motherland, he gives an unrivaled conglomerate a taste of its own medicine with a side of justice.\n",
            "\n",
            "\n",
            "Crash Landing on You\n",
            "After getting into a paragliding accident, South Korean heiress Yoon Se Ri crash lands in North Korea. There, she meets North Korean army officer Ri Jung Hyuk, who agrees to help her return to South Korea. Despite the tension between their countries, the two of them start falling for one another.\n",
            "\n",
            "\n",
            "Hospital Playlist\n",
            "The stories of people going through their days that are seemingly ordinary but actually special, at the hospital, a place known as the microcosm of life, where someone is being born and someone's life meets their ending. The five doctors are long-time friends of 20 years who started their undergrad in 1999 in the same medical school and now are colleagues in the same hospital and have a band together.\n",
            "\n",
            "\n"
          ]
        }
      ]
    },
    {
      "cell_type": "code",
      "metadata": {
        "colab": {
          "base_uri": "https://localhost:8080/"
        },
        "id": "9GC-ThcWXYIj",
        "outputId": "210be006-87f7-41b0-9bda-3bc697781bbb"
      },
      "source": [
        "rd5 = kdrama_names.loc[10]\n",
        "rd5"
      ],
      "execution_count": 48,
      "outputs": [
        {
          "output_type": "execute_result",
          "data": {
            "text/plain": [
              "Name    Mother\n",
              "Name: 10, dtype: object"
            ]
          },
          "metadata": {},
          "execution_count": 48
        }
      ]
    },
    {
      "cell_type": "code",
      "metadata": {
        "colab": {
          "base_uri": "https://localhost:8080/",
          "height": 221
        },
        "id": "EEO_w6BMXb07",
        "outputId": "6112c7d9-1b64-43bc-8fc3-b48e312558a2"
      },
      "source": [
        "getRecommendation_dramas_for(rd5,no_of_recommend=5,get_similarity_rate=True)"
      ],
      "execution_count": 49,
      "outputs": [
        {
          "output_type": "stream",
          "name": "stdout",
          "text": [
            "Similar K-Dramas for \"Mother\":\n"
          ]
        },
        {
          "output_type": "execute_result",
          "data": {
            "text/html": [
              "<div>\n",
              "<style scoped>\n",
              "    .dataframe tbody tr th:only-of-type {\n",
              "        vertical-align: middle;\n",
              "    }\n",
              "\n",
              "    .dataframe tbody tr th {\n",
              "        vertical-align: top;\n",
              "    }\n",
              "\n",
              "    .dataframe thead th {\n",
              "        text-align: right;\n",
              "    }\n",
              "</style>\n",
              "<table border=\"1\" class=\"dataframe\">\n",
              "  <thead>\n",
              "    <tr style=\"text-align: right;\">\n",
              "      <th></th>\n",
              "      <th>Recommended Drama</th>\n",
              "      <th>Similarity</th>\n",
              "      <th>Synopsis</th>\n",
              "    </tr>\n",
              "  </thead>\n",
              "  <tbody>\n",
              "    <tr>\n",
              "      <th>0</th>\n",
              "      <td>What's Wrong with Secretary Kim</td>\n",
              "      <td>0.916882</td>\n",
              "      <td>The series revolves around the narcissistic Le...</td>\n",
              "    </tr>\n",
              "    <tr>\n",
              "      <th>1</th>\n",
              "      <td>Signal</td>\n",
              "      <td>0.908419</td>\n",
              "      <td>Fifteen years ago, a young girl was kidnapped ...</td>\n",
              "    </tr>\n",
              "    <tr>\n",
              "      <th>2</th>\n",
              "      <td>My Mister</td>\n",
              "      <td>0.914022</td>\n",
              "      <td>Park Dong Hoon is a middle-aged engineer who i...</td>\n",
              "    </tr>\n",
              "    <tr>\n",
              "      <th>3</th>\n",
              "      <td>Mr. Queen</td>\n",
              "      <td>0.910188</td>\n",
              "      <td>Jang Bong Hwan is a South Korean chef who has ...</td>\n",
              "    </tr>\n",
              "    <tr>\n",
              "      <th>4</th>\n",
              "      <td>Flower of Evil</td>\n",
              "      <td>0.926961</td>\n",
              "      <td>Although Baek Hee Sung is hiding a dark secret...</td>\n",
              "    </tr>\n",
              "  </tbody>\n",
              "</table>\n",
              "</div>"
            ],
            "text/plain": [
              "                 Recommended Drama  ...                                           Synopsis\n",
              "0  What's Wrong with Secretary Kim  ...  The series revolves around the narcissistic Le...\n",
              "1                           Signal  ...  Fifteen years ago, a young girl was kidnapped ...\n",
              "2                        My Mister  ...  Park Dong Hoon is a middle-aged engineer who i...\n",
              "3                        Mr. Queen  ...  Jang Bong Hwan is a South Korean chef who has ...\n",
              "4                   Flower of Evil  ...  Although Baek Hee Sung is hiding a dark secret...\n",
              "\n",
              "[5 rows x 3 columns]"
            ]
          },
          "metadata": {},
          "execution_count": 49
        }
      ]
    }
  ]
}